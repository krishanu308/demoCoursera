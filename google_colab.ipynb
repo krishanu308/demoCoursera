{
  "nbformat": 4,
  "nbformat_minor": 0,
  "metadata": {
    "kernelspec": {
      "name": "python3",
      "display_name": "Python 3",
      "language": "python"
    },
    "language_info": {
      "name": "python",
      "version": "3.6.13",
      "mimetype": "text/x-python",
      "codemirror_mode": {
        "name": "ipython",
        "version": 3
      },
      "pygments_lexer": "ipython3",
      "nbconvert_exporter": "python",
      "file_extension": ".py"
    },
    "colab": {
      "name": "Index.ipynb",
      "provenance": []
    }
  },
  "cells": [
    {
      "cell_type": "markdown",
      "metadata": {
        "id": "ALDGYFeM6UCY"
      },
      "source": [
        "# Welcome to Jupyter!"
      ]
    },
    {
      "cell_type": "code",
      "metadata": {
        "trusted": true,
        "id": "FzliwcmX6UCb",
        "outputId": "8cf1cebf-fd1a-4a54-8df8-f279b0cfb47c"
      },
      "source": [
        "def hello():\n",
        "    print (\"Hello World\");\n",
        "hello();\n"
      ],
      "execution_count": null,
      "outputs": [
        {
          "output_type": "stream",
          "text": [
            "Hello World\n"
          ],
          "name": "stdout"
        }
      ]
    },
    {
      "cell_type": "markdown",
      "metadata": {
        "id": "6YT-EMQe6UCd"
      },
      "source": [
        "# Title for Statement\n",
        "This is plain statement"
      ]
    }
  ]
}